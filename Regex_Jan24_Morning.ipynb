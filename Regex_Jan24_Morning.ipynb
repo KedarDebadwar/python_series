{
  "nbformat": 4,
  "nbformat_minor": 0,
  "metadata": {
    "colab": {
      "provenance": [],
      "include_colab_link": true
    },
    "kernelspec": {
      "name": "python3",
      "display_name": "Python 3"
    },
    "language_info": {
      "name": "python"
    }
  },
  "cells": [
    {
      "cell_type": "markdown",
      "metadata": {
        "id": "view-in-github",
        "colab_type": "text"
      },
      "source": [
        "<a href=\"https://colab.research.google.com/github/KedarDebadwar/python_series/blob/main/Regex_Jan24_Morning.ipynb\" target=\"_parent\"><img src=\"https://colab.research.google.com/assets/colab-badge.svg\" alt=\"Open In Colab\"/></a>"
      ]
    },
    {
      "cell_type": "code",
      "execution_count": null,
      "metadata": {
        "id": "LgGfeskkKJgb"
      },
      "outputs": [],
      "source": [
        "# Given a list of email addresses, extract the ones that are valid"
      ]
    },
    {
      "cell_type": "markdown",
      "source": [
        "- `randomemail@website.com`\n",
        "  - `randomemail` ->\n",
        "    - alphabets, numbers, ., _ - ALLOWED\n",
        "    - @ is not allowed\n",
        "  - `@` -> Necessary\n",
        "  - `website.com` ->\n",
        "    - Valid website name\n",
        "    - .com, .co.in"
      ],
      "metadata": {
        "id": "SsbbbeXKN9aP"
      }
    },
    {
      "cell_type": "code",
      "source": [
        "# Regex Library\n",
        "import re"
      ],
      "metadata": {
        "id": "LXgDDGGGN8ng"
      },
      "execution_count": null,
      "outputs": []
    },
    {
      "cell_type": "code",
      "source": [
        "def is_email(s):\n",
        "  email_pattern = \"^\\w+([\\.-]?\\w+)*@\\w+([|.-]?\\w+)*(\\.\\w{2,3})+$\"\n",
        "  res = re.search(email_pattern, s)\n",
        "\n",
        "  return True if res else False"
      ],
      "metadata": {
        "id": "xjtgsgXqO7Je"
      },
      "execution_count": null,
      "outputs": []
    },
    {
      "cell_type": "code",
      "source": [
        "is_email(\"bipin@kalra_1@scaler.com\")"
      ],
      "metadata": {
        "colab": {
          "base_uri": "https://localhost:8080/"
        },
        "id": "s-_l6DndPO_s",
        "outputId": "ce42d341-2a76-47ac-d2c6-0ea82ca6eca1"
      },
      "execution_count": null,
      "outputs": [
        {
          "output_type": "execute_result",
          "data": {
            "text/plain": [
              "False"
            ]
          },
          "metadata": {},
          "execution_count": 7
        }
      ]
    },
    {
      "cell_type": "code",
      "source": [
        "\"\"\"\n",
        "abcdefghijklmnopqurtuvwxyz\n",
        "ABCDEFGHIJKLMNOPQRSTUVWXYZ\n",
        "1234567890\n",
        "\n",
        "abcdef\n",
        "\n",
        ".[{()\\^$|?*+\n",
        "\n",
        "scaler.com\n",
        "\n",
        "321-555-4321\n",
        "123.555.1234\n",
        "\n",
        "Mr. Varma\n",
        "Mr Anant\n",
        "Ms Nandini\n",
        "Mrs. Singh\n",
        "Mr. T\n",
        "\"\"\""
      ],
      "metadata": {
        "colab": {
          "base_uri": "https://localhost:8080/",
          "height": 53
        },
        "id": "Yluf1tkVPUzK",
        "outputId": "cbdffeec-e76f-4bf2-906f-6de89495f32d"
      },
      "execution_count": null,
      "outputs": [
        {
          "output_type": "execute_result",
          "data": {
            "text/plain": [
              "'\\nabcdefghijklmnopqurtuvwxyz\\nABCDEFGHIJKLMNOPQRSTUVWXYZ\\n1234567890\\n\\nabcdef\\n\\n.[{()\\\\^$|?*+\\n\\nscaler.com\\n\\n321-555-4321\\n123.555.1234\\n\\nMr. Varma\\nMr Anant  \\nMs Nandini\\nMrs. Singh\\nMr. T\\n'"
            ],
            "application/vnd.google.colaboratory.intrinsic+json": {
              "type": "string"
            }
          },
          "metadata": {},
          "execution_count": 9
        }
      ]
    },
    {
      "cell_type": "code",
      "source": [
        "!gdown 1sSDV5UspYZL3UUOGuiuxppSGcv1wS9ex"
      ],
      "metadata": {
        "colab": {
          "base_uri": "https://localhost:8080/"
        },
        "id": "277V0jfOQeFu",
        "outputId": "09364831-5436-4065-e839-adcb123c7408"
      },
      "execution_count": null,
      "outputs": [
        {
          "output_type": "stream",
          "name": "stdout",
          "text": [
            "Downloading...\n",
            "From: https://drive.google.com/uc?id=1sSDV5UspYZL3UUOGuiuxppSGcv1wS9ex\n",
            "To: /content/data.txt\n",
            "\r  0% 0.00/9.33k [00:00<?, ?B/s]\r100% 9.33k/9.33k [00:00<00:00, 21.0MB/s]\n"
          ]
        }
      ]
    },
    {
      "cell_type": "code",
      "source": [
        "data = open(\"data.txt\", \"r\").read()"
      ],
      "metadata": {
        "id": "C8gT7-E8iiBc"
      },
      "execution_count": null,
      "outputs": []
    },
    {
      "cell_type": "code",
      "source": [
        "print(data[:500])"
      ],
      "metadata": {
        "colab": {
          "base_uri": "https://localhost:8080/"
        },
        "id": "vtcMpXNOisdZ",
        "outputId": "73655892-ed77-4433-c715-0e998688d25b"
      },
      "execution_count": null,
      "outputs": [
        {
          "output_type": "stream",
          "name": "stdout",
          "text": [
            "Dave Martin\n",
            "615-555-7164\n",
            "173 Main St., Springfield RI 55924\n",
            "davemartin@bogusemail.com\n",
            "\n",
            "Charles Harris\n",
            "800-555-5669\n",
            "969 High St., Atlantis VA 34075\n",
            "charlesharris@bogusemail.com\n",
            "\n",
            "Eric Williams\n",
            "560-555-5153\n",
            "806 1st St., Faketown AK 86847\n",
            "laurawilliams@bogusemail.com\n",
            "\n",
            "Corey Jefferson\n",
            "900-555-9340\n",
            "826 Elm St., Epicburg NE 10671\n",
            "coreyjefferson@bogusemail.com\n",
            "\n",
            "Jennifer Martin-White\n",
            "714-555-7405\n",
            "212 Cedar St., Sunnydale CT 74983\n",
            "jenniferwhite@bogusemail.com\n",
            "\n",
            "Erick Davis\n",
            "800-555-6771\n",
            "519 Washington St., \n"
          ]
        }
      ]
    },
    {
      "cell_type": "code",
      "source": [
        "data"
      ],
      "metadata": {
        "colab": {
          "base_uri": "https://localhost:8080/",
          "height": 174
        },
        "id": "zpPAGIdoitpp",
        "outputId": "f78406b3-5ed2-40a4-f83e-969eb48053e7"
      },
      "execution_count": null,
      "outputs": [
        {
          "output_type": "execute_result",
          "data": {
            "text/plain": [
              "\"Dave Martin\\n615-555-7164\\n173 Main St., Springfield RI 55924\\ndavemartin@bogusemail.com\\n\\nCharles Harris\\n800-555-5669\\n969 High St., Atlantis VA 34075\\ncharlesharris@bogusemail.com\\n\\nEric Williams\\n560-555-5153\\n806 1st St., Faketown AK 86847\\nlaurawilliams@bogusemail.com\\n\\nCorey Jefferson\\n900-555-9340\\n826 Elm St., Epicburg NE 10671\\ncoreyjefferson@bogusemail.com\\n\\nJennifer Martin-White\\n714-555-7405\\n212 Cedar St., Sunnydale CT 74983\\njenniferwhite@bogusemail.com\\n\\nErick Davis\\n800-555-6771\\n519 Washington St., Olympus TN 32425\\ntomdavis@bogusemail.com\\n\\nNeil Patterson\\n783-555-4799\\n625 Oak St., Dawnstar IL 61914\\nneilpatterson@bogusemail.com\\n\\nLaura Jefferson\\n516-555-4615\\n890 Main St., Pythonville LA 29947\\nlaurajefferson@bogusemail.com\\n\\nMaria Johnson\\n127-555-1867\\n884 High St., Braavos\\u200e ME 43597\\nmariajohnson@bogusemail.com\\n\\nMichael Arnold\\n608-555-4938\\n249 Elm St., Quahog OR 90938\\nmichaelarnold@bogusemail.com\\n\\nMichael Smith\\n568-555-6051\\n619 Park St., Winterfell VA 99000\\nmichaelsmith@bogusemail.com\\n\\nErik Stuart\\n292-555-1875\\n220 Cedar St., Lakeview NY 87282\\nrobertstuart@bogusemail.com\\n\\nLaura Martin\\n900-555-3205\\n391 High St., Smalltown WY 28362\\nlauramartin@bogusemail.com\\n\\nBarbara Martin\\n614-555-1166\\n121 Hill St., Braavos\\u200e UT 92474\\nbarbaramartin@bogusemail.com\\n\\nLinda Jackson\\n530-555-2676\\n433 Elm St., Westworld TX 61967\\nlindajackson@bogusemail.com\\n\\nEric Miller\\n470-555-2750\\n838 Main St., Balmora MT 56526\\nstevemiller@bogusemail.com\\n\\nDave Arnold\\n800-555-6089\\n732 High St., Valyria KY 97152\\ndavearnold@bogusemail.com\\n\\nJennifer Jacobs\\n880-555-8319\\n217 High St., Old-town IA 82767\\njenniferjacobs@bogusemail.com\\n\\nNeil Wilson\\n777-555-8378\\n191 Main St., Mordor IL 72160\\nneilwilson@bogusemail.com\\n\\nKurt Jackson\\n998-555-7385\\n607 Washington St., Blackwater NH 97183\\nkurtjackson@bogusemail.com\\n\\nMary Jacobs\\n800-555-7100\\n478 Oak St., Bedrock IA 58176\\nmaryjacobs@bogusemail.com\\n\\nMichael White\\n903-555-8277\\n906 Elm St., Mordor TX 89212\\nmichaelwhite@bogusemail.com\\n\\nJennifer Jenkins\\n196-555-5674\\n949 Main St., Smalltown SC 96962\\njenniferjenkins@bogusemail.com\\n\\nSam Wright\\n900-555-5118\\n835 Pearl St., Smalltown ND 77737\\nsamwright@bogusemail.com\\n\\nJohn Davis\\n905-555-1630\\n451 Lake St., Bedrock GA 34615\\njohndavis@bogusemail.com\\n\\nEric Davis\\n203-555-3475\\n419 Lake St., Balmora OR 30826\\nneildavis@bogusemail.com\\n\\nLaura Jackson\\n884-555-8444\\n443 Maple St., Quahog MS 29348\\nlaurajackson@bogusemail.com\\n\\nJohn Williams\\n904-555-8559\\n756 Hill St., Valyria KY 94854\\njohnwilliams@bogusemail.com\\n\\nMichael Martin\\n889-555-7393\\n216 High St., Olympus NV 21888\\nmichaelmartin@bogusemail.com\\n\\nMaggie Brown\\n195-555-2405\\n806 Lake St., Lakeview MD 59348\\nmaggiebrown@bogusemail.com\\n\\nErik Wilson\\n321-555-9053\\n354 Hill St., Mordor FL 74122\\nkurtwilson@bogusemail.com\\n\\nElizabeth Arnold\\n133-555-1711\\n805 Maple St., Winterfell NV 99431\\nelizabetharnold@bogusemail.com\\n\\nJane Martin\\n900-555-5428\\n418 Park St., Metropolis ID 16576\\njanemartin@bogusemail.com\\n\\nTravis Johnson\\n760-555-7147\\n749 Washington St., Braavos\\u200e SD 25668\\ntravisjohnson@bogusemail.com\\n\\nLaura Jefferson\\n391-555-6621\\n122 High St., Metropolis ME 29540\\nlaurajefferson@bogusemail.com\\n\\nTom Williams\\n932-555-7724\\n610 High St., Old-town FL 60758\\ntomwilliams@bogusemail.com\\n\\nJennifer Taylor\\n609-555-7908\\n332 Main St., Pythonville OH 78172\\njennifertaylor@bogusemail.com\\n\\nErick Wright\\n800-555-8810\\n858 Hill St., Blackwater NC 79714\\njenniferwright@bogusemail.com\\n\\nSteve Doe\\n149-555-7657\\n441 Elm St., Atlantis MS 87195\\nstevedoe@bogusemail.com\\n\\nKurt Davis\\n130-555-9709\\n404 Oak St., Atlantis ND 85386\\nkurtdavis@bogusemail.com\\n\\nCorey Harris\\n143-555-9295\\n286 Pearl St., Vice City TX 57112\\ncoreyharris@bogusemail.com\\n\\nNicole Taylor\\n903-555-9878\\n465 Hill St., Old-town LA 64102\\nnicoletaylor@bogusemail.com\\n\\nElizabeth Davis\\n574-555-3194\\n151 Lake St., Eerie SD 17880\\nelizabethdavis@bogusemail.com\\n\\nMaggie Jenkins\\n496-555-7533\\n504 Lake St., Gotham PA 46692\\nmaggiejenkins@bogusemail.com\\n\\nLinda Davis\\n210-555-3757\\n201 Pine St., Vice City AR 78455\\nlindadavis@bogusemail.com\\n\\nDave Moore\\n900-555-9598\\n251 Pine St., Old-town OK 29087\\ndavemoore@bogusemail.com\\n\\nLinda Jenkins\\n866-555-9844\\n117 High St., Bedrock NE 11899\\nlindajenkins@bogusemail.com\\n\\nEric White\\n669-555-7159\\n650 Oak St., Smalltown TN 43281\\nsamwhite@bogusemail.com\\n\\nLaura Robinson\\n152-555-7417\\n377 Pine St., Valyria NC 78036\\nlaurarobinson@bogusemail.com\\n\\nCharles Patterson\\n893-555-9832\\n416 Pearl St., Valyria AK 62260\\ncharlespatterson@bogusemail.com\\n\\nJoe Jackson\\n217-555-7123\\n683 Cedar St., South Park KS 66724\\njoejackson@bogusemail.com\\n\\nMichael Johnson\\n786-555-6544\\n288 Hill St., Smalltown AZ 18586\\nmichaeljohnson@bogusemail.com\\n\\nCorey Miller\\n780-555-2574\\n286 High St., Springfield IA 16272\\ncoreymiller@bogusemail.com\\n\\nJames Moore\\n926-555-8735\\n278 Main St., Gotham KY 89569\\njamesmoore@bogusemail.com\\n\\nJennifer Stuart\\n895-555-3539\\n766 Hill St., King's Landing GA 54999\\njenniferstuart@bogusemail.com\\n\\nCharles Martin\\n874-555-3949\\n775 High St., Faketown PA 89260\\ncharlesmartin@bogusemail.com\\n\\nEric Wilks\\n800-555-2420\\n885 Main St., Blackwater OH 61275\\njoewilks@bogusemail.com\\n\\nElizabeth Arnold\\n936-555-6340\\n528 Hill St., Atlantis NH 88289\\nelizabetharnold@bogusemail.com\\n\\nJohn Miller\\n372-555-9809\\n117 Cedar St., Thundera NM 75205\\njohnmiller@bogusemail.com\\n\\nCorey Jackson\\n890-555-5618\\n115 Oak St., Gotham UT 36433\\ncoreyjackson@bogusemail.com\\n\\nSam Thomas\\n670-555-3005\\n743 Lake St., Springfield MS 25473\\nsamthomas@bogusemail.com\\n\\nPatricia Thomas\\n509-555-5997\\n381 Hill St., Blackwater CT 30958\\npatriciathomas@bogusemail.com\\n\\nJennifer Davis\\n721-555-5632\\n125 Main St., Smalltown MT 62155\\njenniferdavis@bogusemail.com\\n\\nPatricia Brown\\n900-555-3567\\n292 Hill St., Gotham WV 57680\\npatriciabrown@bogusemail.com\\n\\nBarbara Williams\\n147-555-6830\\n514 Park St., Balmora NV 55462\\nbarbarawilliams@bogusemail.com\\n\\nJames Taylor\\n582-555-3426\\n776 Hill St., Dawnstar MA 51312\\njamestaylor@bogusemail.com\\n\\nEric Harris\\n400-555-1706\\n421 Elm St., Smalltown NV 72025\\nbarbaraharris@bogusemail.com\\n\\nTravis Anderson\\n525-555-1793\\n937 Cedar St., Thundera WA 78862\\ntravisanderson@bogusemail.com\\n\\nSam Robinson\\n317-555-6700\\n417 Pine St., Lakeview MD 13147\\nsamrobinson@bogusemail.com\\n\\nSteve Robinson\\n974-555-8301\\n478 Park St., Springfield NM 92369\\nsteverobinson@bogusemail.com\\n\\nMary Wilson\\n800-555-3216\\n708 Maple St., Braavos\\u200e UT 29551\\nmarywilson@bogusemail.com\\n\\nSam Wilson\\n746-555-4094\\n557 Pearl St., Westworld KS 23225\\nsamwilson@bogusemail.com\\n\\nCharles Jones\\n922-555-1773\\n855 Hill St., Olympus HI 81427\\ncharlesjones@bogusemail.com\\n\\nLaura Brown\\n711-555-4427\\n980 Maple St., Smalltown MO 96421\\nlaurabrown@bogusemail.com\\n\\nTom Harris\\n355-555-1872\\n676 Hill St., Blackwater AR 96698\\ntomharris@bogusemail.com\\n\\nPatricia Taylor\\n852-555-6521\\n588 Pine St., Olympus FL 98412\\npatriciataylor@bogusemail.com\\n\\nBarbara Williams\\n691-555-5773\\n351 Elm St., Sunnydale GA 26245\\nbarbarawilliams@bogusemail.com\\n\\nMaggie Johnson\\n332-555-5441\\n948 Cedar St., Quahog DE 56449\\nmaggiejohnson@bogusemail.com\\n\\nKurt Miller\\n900-555-7755\\n381 Hill St., Quahog AL 97503\\nkurtmiller@bogusemail.com\\n\\nNeil Stuart\\n379-555-3685\\n496 Cedar St., Sunnydale RI 49113\\nneilstuart@bogusemail.com\\n\\nLinda Patterson\\n127-555-9682\\n736 Cedar St., Lakeview KY 47472\\nlindapatterson@bogusemail.com\\n\\nCharles Davis\\n789-555-7032\\n678 Lake St., Mordor MN 11845\\ncharlesdavis@bogusemail.com\\n\\nJennifer Jefferson\\n783-555-5135\\n289 Park St., Sunnydale WA 74526\\njenniferjefferson@bogusemail.com\\n\\nErick Taylor\\n315-555-6507\\n245 Washington St., Bedrock IL 26941\\ncoreytaylor@bogusemail.com\\n\\nRobert Wilks\\n481-555-5835\\n573 Elm St., Sunnydale IL 47182\\nrobertwilks@bogusemail.com\\n\\nTravis Jackson\\n365-555-8287\\n851 Lake St., Metropolis PA 22772\\ntravisjackson@bogusemail.com\\n\\nTravis Jackson\\n911-555-7535\\n489 Oak St., Atlantis HI 73725\\ntravisjackson@bogusemail.com\\n\\nLaura Wilks\\n681-555-2460\\n371 Pearl St., Smalltown SC 47466\\nlaurawilks@bogusemail.com\\n\\nNeil Arnold\\n274-555-9800\\n504 Oak St., Faketown PA 73860\\nneilarnold@bogusemail.com\\n\\nLinda Johnson\\n800-555-1372\\n667 High St., Balmora IN 82473\\nlindajohnson@bogusemail.com\\n\\nJennifer Wilson\\n300-555-7821\\n266 Pine St., Westworld DC 58720\\njenniferwilson@bogusemail.com\\n\\nNicole White\\n133-555-3889\\n276 High St., Braavos\\u200e IL 57764\\nnicolewhite@bogusemail.com\\n\\nMaria Arnold\\n705-555-6863\\n491 Elm St., Metropolis PA 31836\\nmariaarnold@bogusemail.com\\n\\nJennifer Davis\\n215-555-9449\\n859 Cedar St., Old-town MT 31169\\njenniferdavis@bogusemail.com\\n\\nMary Patterson\\n988-555-6112\\n956 Park St., Valyria CT 81541\\nmarypatterson@bogusemail.com\\n\\nJane Stuart\\n623-555-3006\\n983 Oak St., Old-town RI 15445\\njanestuart@bogusemail.com\\n\\nRobert Davis\\n192-555-4977\\n789 Maple St., Mordor IN 22215\\nrobertdavis@bogusemail.com\\n\\nJames Taylor\\n178-555-4899\\n439 Hill St., Olympus NV 39308\\njamestaylor@bogusemail.com\\n\\nEric Stuart\\n952-555-3089\\n777 High St., King's Landing AZ 16547\\njohnstuart@bogusemail.com\\n\\nCharles Miller\\n900-555-6426\\n207 Washington St., Blackwater MA 24886\\ncharlesmiller@bogusemail.com\""
            ],
            "application/vnd.google.colaboratory.intrinsic+json": {
              "type": "string"
            }
          },
          "metadata": {},
          "execution_count": 14
        }
      ]
    },
    {
      "cell_type": "code",
      "source": [
        "# re.match() -> Matches pattern in the beginning of the string\n",
        "\n",
        "phone_number = \"789-569-9689\"\n",
        "pattern = \"\\d{3}-\\d{3}-\\d{4}\"\n",
        "\n",
        "True if re.match(pattern, phone_number) else False"
      ],
      "metadata": {
        "colab": {
          "base_uri": "https://localhost:8080/"
        },
        "id": "cGmz3VdBi5PY",
        "outputId": "a79e3edb-d412-4a65-aafc-cd27589b4d4c"
      },
      "execution_count": null,
      "outputs": [
        {
          "output_type": "execute_result",
          "data": {
            "text/plain": [
              "True"
            ]
          },
          "metadata": {},
          "execution_count": 16
        }
      ]
    },
    {
      "cell_type": "code",
      "source": [
        "phone_pattern = \"\\d{3}-\\d{3}-\\d{4}\""
      ],
      "metadata": {
        "id": "gTm0kLbrkPx5"
      },
      "execution_count": null,
      "outputs": []
    },
    {
      "cell_type": "code",
      "source": [
        "# re.search() -> Finds out the first occurence of the pattern in the string\n",
        "\n",
        "re.search(phone_pattern, data)"
      ],
      "metadata": {
        "colab": {
          "base_uri": "https://localhost:8080/"
        },
        "id": "YRVd6ILOj5zG",
        "outputId": "efec85f2-90ae-4c1d-e5e6-1393206a23e6"
      },
      "execution_count": null,
      "outputs": [
        {
          "output_type": "execute_result",
          "data": {
            "text/plain": [
              "<re.Match object; span=(12, 24), match='615-555-7164'>"
            ]
          },
          "metadata": {},
          "execution_count": 18
        }
      ]
    },
    {
      "cell_type": "code",
      "source": [
        "# re.findall() -> Finds all occurences of the pattern in the string\n",
        "\n",
        "re.findall(phone_pattern, data)"
      ],
      "metadata": {
        "colab": {
          "base_uri": "https://localhost:8080/"
        },
        "id": "wI_EijgkkWoQ",
        "outputId": "179c807b-87e1-4b21-af9b-bfcb8e4868e1"
      },
      "execution_count": null,
      "outputs": [
        {
          "output_type": "execute_result",
          "data": {
            "text/plain": [
              "['615-555-7164',\n",
              " '800-555-5669',\n",
              " '560-555-5153',\n",
              " '900-555-9340',\n",
              " '714-555-7405',\n",
              " '800-555-6771',\n",
              " '783-555-4799',\n",
              " '516-555-4615',\n",
              " '127-555-1867',\n",
              " '608-555-4938',\n",
              " '568-555-6051',\n",
              " '292-555-1875',\n",
              " '900-555-3205',\n",
              " '614-555-1166',\n",
              " '530-555-2676',\n",
              " '470-555-2750',\n",
              " '800-555-6089',\n",
              " '880-555-8319',\n",
              " '777-555-8378',\n",
              " '998-555-7385',\n",
              " '800-555-7100',\n",
              " '903-555-8277',\n",
              " '196-555-5674',\n",
              " '900-555-5118',\n",
              " '905-555-1630',\n",
              " '203-555-3475',\n",
              " '884-555-8444',\n",
              " '904-555-8559',\n",
              " '889-555-7393',\n",
              " '195-555-2405',\n",
              " '321-555-9053',\n",
              " '133-555-1711',\n",
              " '900-555-5428',\n",
              " '760-555-7147',\n",
              " '391-555-6621',\n",
              " '932-555-7724',\n",
              " '609-555-7908',\n",
              " '800-555-8810',\n",
              " '149-555-7657',\n",
              " '130-555-9709',\n",
              " '143-555-9295',\n",
              " '903-555-9878',\n",
              " '574-555-3194',\n",
              " '496-555-7533',\n",
              " '210-555-3757',\n",
              " '900-555-9598',\n",
              " '866-555-9844',\n",
              " '669-555-7159',\n",
              " '152-555-7417',\n",
              " '893-555-9832',\n",
              " '217-555-7123',\n",
              " '786-555-6544',\n",
              " '780-555-2574',\n",
              " '926-555-8735',\n",
              " '895-555-3539',\n",
              " '874-555-3949',\n",
              " '800-555-2420',\n",
              " '936-555-6340',\n",
              " '372-555-9809',\n",
              " '890-555-5618',\n",
              " '670-555-3005',\n",
              " '509-555-5997',\n",
              " '721-555-5632',\n",
              " '900-555-3567',\n",
              " '147-555-6830',\n",
              " '582-555-3426',\n",
              " '400-555-1706',\n",
              " '525-555-1793',\n",
              " '317-555-6700',\n",
              " '974-555-8301',\n",
              " '800-555-3216',\n",
              " '746-555-4094',\n",
              " '922-555-1773',\n",
              " '711-555-4427',\n",
              " '355-555-1872',\n",
              " '852-555-6521',\n",
              " '691-555-5773',\n",
              " '332-555-5441',\n",
              " '900-555-7755',\n",
              " '379-555-3685',\n",
              " '127-555-9682',\n",
              " '789-555-7032',\n",
              " '783-555-5135',\n",
              " '315-555-6507',\n",
              " '481-555-5835',\n",
              " '365-555-8287',\n",
              " '911-555-7535',\n",
              " '681-555-2460',\n",
              " '274-555-9800',\n",
              " '800-555-1372',\n",
              " '300-555-7821',\n",
              " '133-555-3889',\n",
              " '705-555-6863',\n",
              " '215-555-9449',\n",
              " '988-555-6112',\n",
              " '623-555-3006',\n",
              " '192-555-4977',\n",
              " '178-555-4899',\n",
              " '952-555-3089',\n",
              " '900-555-6426']"
            ]
          },
          "metadata": {},
          "execution_count": 19
        }
      ]
    },
    {
      "cell_type": "code",
      "source": [
        "numbers = re.finditer(phone_pattern, data)"
      ],
      "metadata": {
        "id": "PTbfNL2PkiRv"
      },
      "execution_count": null,
      "outputs": []
    },
    {
      "cell_type": "code",
      "source": [
        "numbers"
      ],
      "metadata": {
        "colab": {
          "base_uri": "https://localhost:8080/"
        },
        "id": "NjISLpGfk2RB",
        "outputId": "02cad096-ae90-45c0-a2e6-04c4169750f1"
      },
      "execution_count": null,
      "outputs": [
        {
          "output_type": "execute_result",
          "data": {
            "text/plain": [
              "<callable_iterator at 0x792bda9847c0>"
            ]
          },
          "metadata": {},
          "execution_count": 21
        }
      ]
    },
    {
      "cell_type": "code",
      "source": [
        "for i in numbers:\n",
        "  print(i)"
      ],
      "metadata": {
        "colab": {
          "base_uri": "https://localhost:8080/"
        },
        "id": "DiqXD-Mrk3We",
        "outputId": "3e2dc9f0-295a-4478-8f89-f74e09a642dd"
      },
      "execution_count": null,
      "outputs": [
        {
          "output_type": "stream",
          "name": "stdout",
          "text": [
            "<re.Match object; span=(12, 24), match='615-555-7164'>\n",
            "<re.Match object; span=(102, 114), match='800-555-5669'>\n",
            "<re.Match object; span=(191, 203), match='560-555-5153'>\n",
            "<re.Match object; span=(281, 293), match='900-555-9340'>\n",
            "<re.Match object; span=(378, 390), match='714-555-7405'>\n",
            "<re.Match object; span=(467, 479), match='800-555-6771'>\n",
            "<re.Match object; span=(557, 569), match='783-555-4799'>\n",
            "<re.Match object; span=(647, 659), match='516-555-4615'>\n",
            "<re.Match object; span=(740, 752), match='127-555-1867'>\n",
            "<re.Match object; span=(829, 841), match='608-555-4938'>\n",
            "<re.Match object; span=(915, 927), match='568-555-6051'>\n",
            "<re.Match object; span=(1003, 1015), match='292-555-1875'>\n",
            "<re.Match object; span=(1091, 1103), match='900-555-3205'>\n",
            "<re.Match object; span=(1180, 1192), match='614-555-1166'>\n",
            "<re.Match object; span=(1269, 1281), match='530-555-2676'>\n",
            "<re.Match object; span=(1355, 1367), match='470-555-2750'>\n",
            "<re.Match object; span=(1439, 1451), match='800-555-6089'>\n",
            "<re.Match object; span=(1526, 1538), match='880-555-8319'>\n",
            "<re.Match object; span=(1614, 1626), match='777-555-8378'>\n",
            "<re.Match object; span=(1697, 1709), match='998-555-7385'>\n",
            "<re.Match object; span=(1790, 1802), match='800-555-7100'>\n",
            "<re.Match object; span=(1874, 1886), match='903-555-8277'>\n",
            "<re.Match object; span=(1962, 1974), match='196-555-5674'>\n",
            "<re.Match object; span=(2051, 2063), match='900-555-5118'>\n",
            "<re.Match object; span=(2135, 2147), match='905-555-1630'>\n",
            "<re.Match object; span=(2216, 2228), match='203-555-3475'>\n",
            "<re.Match object; span=(2300, 2312), match='884-555-8444'>\n",
            "<re.Match object; span=(2387, 2399), match='904-555-8559'>\n",
            "<re.Match object; span=(2475, 2487), match='889-555-7393'>\n",
            "<re.Match object; span=(2562, 2574), match='195-555-2405'>\n",
            "<re.Match object; span=(2647, 2659), match='321-555-9053'>\n",
            "<re.Match object; span=(2734, 2746), match='133-555-1711'>\n",
            "<re.Match object; span=(2826, 2838), match='900-555-5428'>\n",
            "<re.Match object; span=(2915, 2927), match='760-555-7147'>\n",
            "<re.Match object; span=(3012, 3024), match='391-555-6621'>\n",
            "<re.Match object; span=(3103, 3115), match='932-555-7724'>\n",
            "<re.Match object; span=(3192, 3204), match='609-555-7908'>\n",
            "<re.Match object; span=(3284, 3296), match='800-555-8810'>\n",
            "<re.Match object; span=(3372, 3384), match='149-555-7657'>\n",
            "<re.Match object; span=(3452, 3464), match='130-555-9709'>\n",
            "<re.Match object; span=(3535, 3547), match='143-555-9295'>\n",
            "<re.Match object; span=(3624, 3636), match='903-555-9878'>\n",
            "<re.Match object; span=(3714, 3726), match='574-555-3194'>\n",
            "<re.Match object; span=(3802, 3814), match='496-555-7533'>\n",
            "<re.Match object; span=(3887, 3899), match='210-555-3757'>\n",
            "<re.Match object; span=(3971, 3983), match='900-555-9598'>\n",
            "<re.Match object; span=(4056, 4068), match='866-555-9844'>\n",
            "<re.Match object; span=(4140, 4152), match='669-555-7159'>\n",
            "<re.Match object; span=(4225, 4237), match='152-555-7417'>\n",
            "<re.Match object; span=(4317, 4329), match='893-555-9832'>\n",
            "<re.Match object; span=(4407, 4419), match='217-555-7123'>\n",
            "<re.Match object; span=(4498, 4510), match='786-555-6544'>\n",
            "<re.Match object; span=(4588, 4600), match='780-555-2574'>\n",
            "<re.Match object; span=(4676, 4688), match='926-555-8735'>\n",
            "<re.Match object; span=(4762, 4774), match='895-555-3539'>\n",
            "<re.Match object; span=(4859, 4871), match='874-555-3949'>\n",
            "<re.Match object; span=(4945, 4957), match='800-555-2420'>\n",
            "<re.Match object; span=(5034, 5046), match='936-555-6340'>\n",
            "<re.Match object; span=(5123, 5135), match='372-555-9809'>\n",
            "<re.Match object; span=(5210, 5222), match='890-555-5618'>\n",
            "<re.Match object; span=(5292, 5304), match='670-555-3005'>\n",
            "<re.Match object; span=(5382, 5394), match='509-555-5997'>\n",
            "<re.Match object; span=(5475, 5487), match='721-555-5632'>\n",
            "<re.Match object; span=(5566, 5578), match='900-555-3567'>\n",
            "<re.Match object; span=(5656, 5668), match='147-555-6830'>\n",
            "<re.Match object; span=(5745, 5757), match='582-555-3426'>\n",
            "<re.Match object; span=(5830, 5842), match='400-555-1706'>\n",
            "<re.Match object; span=(5921, 5933), match='525-555-1793'>\n",
            "<re.Match object; span=(6011, 6023), match='317-555-6700'>\n",
            "<re.Match object; span=(6099, 6111), match='974-555-8301'>\n",
            "<re.Match object; span=(6189, 6201), match='800-555-3216'>\n",
            "<re.Match object; span=(6273, 6285), match='746-555-4094'>\n",
            "<re.Match object; span=(6360, 6372), match='922-555-1773'>\n",
            "<re.Match object; span=(6445, 6457), match='711-555-4427'>\n",
            "<re.Match object; span=(6530, 6542), match='355-555-1872'>\n",
            "<re.Match object; span=(6619, 6631), match='852-555-6521'>\n",
            "<re.Match object; span=(6711, 6723), match='691-555-5773'>\n",
            "<re.Match object; span=(6803, 6815), match='332-555-5441'>\n",
            "<re.Match object; span=(6889, 6901), match='900-555-7755'>\n",
            "<re.Match object; span=(6971, 6983), match='379-555-3685'>\n",
            "<re.Match object; span=(7061, 7073), match='127-555-9682'>\n",
            "<re.Match object; span=(7152, 7164), match='789-555-7032'>\n",
            "<re.Match object; span=(7243, 7255), match='783-555-5135'>\n",
            "<re.Match object; span=(7336, 7348), match='315-555-6507'>\n",
            "<re.Match object; span=(7427, 7439), match='481-555-5835'>\n",
            "<re.Match object; span=(7515, 7527), match='365-555-8287'>\n",
            "<re.Match object; span=(7607, 7619), match='911-555-7535'>\n",
            "<re.Match object; span=(7693, 7705), match='681-555-2460'>\n",
            "<re.Match object; span=(7779, 7791), match='274-555-9800'>\n",
            "<re.Match object; span=(7864, 7876), match='800-555-1372'>\n",
            "<re.Match object; span=(7953, 7965), match='300-555-7821'>\n",
            "<re.Match object; span=(8043, 8055), match='133-555-3889'>\n",
            "<re.Match object; span=(8129, 8141), match='705-555-6863'>\n",
            "<re.Match object; span=(8218, 8230), match='215-555-9449'>\n",
            "<re.Match object; span=(8309, 8321), match='988-555-6112'>\n",
            "<re.Match object; span=(8395, 8407), match='623-555-3006'>\n",
            "<re.Match object; span=(8479, 8491), match='192-555-4977'>\n",
            "<re.Match object; span=(8564, 8576), match='178-555-4899'>\n",
            "<re.Match object; span=(8648, 8660), match='952-555-3089'>\n",
            "<re.Match object; span=(8741, 8753), match='900-555-6426'>\n"
          ]
        }
      ]
    },
    {
      "cell_type": "code",
      "source": [
        "random = re.search(phone_pattern, data)"
      ],
      "metadata": {
        "id": "Kqj6sZW2k70m"
      },
      "execution_count": null,
      "outputs": []
    },
    {
      "cell_type": "code",
      "source": [
        "random"
      ],
      "metadata": {
        "colab": {
          "base_uri": "https://localhost:8080/"
        },
        "id": "a4qdUfwxlJRG",
        "outputId": "126328dd-cd8e-441c-fdae-2c6f45c2cd38"
      },
      "execution_count": null,
      "outputs": [
        {
          "output_type": "execute_result",
          "data": {
            "text/plain": [
              "<re.Match object; span=(12, 24), match='615-555-7164'>"
            ]
          },
          "metadata": {},
          "execution_count": 25
        }
      ]
    },
    {
      "cell_type": "code",
      "source": [
        "random.group()"
      ],
      "metadata": {
        "colab": {
          "base_uri": "https://localhost:8080/",
          "height": 35
        },
        "id": "6ycuPJqYlNCc",
        "outputId": "b5d3cfad-6e4b-4749-81b8-dde67724724c"
      },
      "execution_count": null,
      "outputs": [
        {
          "output_type": "execute_result",
          "data": {
            "text/plain": [
              "'615-555-7164'"
            ],
            "application/vnd.google.colaboratory.intrinsic+json": {
              "type": "string"
            }
          },
          "metadata": {},
          "execution_count": 26
        }
      ]
    },
    {
      "cell_type": "code",
      "source": [
        "random.start()"
      ],
      "metadata": {
        "colab": {
          "base_uri": "https://localhost:8080/"
        },
        "id": "WYaNdrZLlPo9",
        "outputId": "6cc46ea8-fa97-4513-e7a5-3463efc90e59"
      },
      "execution_count": null,
      "outputs": [
        {
          "output_type": "execute_result",
          "data": {
            "text/plain": [
              "12"
            ]
          },
          "metadata": {},
          "execution_count": 27
        }
      ]
    },
    {
      "cell_type": "code",
      "source": [
        "random.end()"
      ],
      "metadata": {
        "colab": {
          "base_uri": "https://localhost:8080/"
        },
        "id": "O5wSf8bmlRtk",
        "outputId": "a976771a-ffc1-4676-8192-7b494f6cbf17"
      },
      "execution_count": null,
      "outputs": [
        {
          "output_type": "execute_result",
          "data": {
            "text/plain": [
              "24"
            ]
          },
          "metadata": {},
          "execution_count": 28
        }
      ]
    },
    {
      "cell_type": "code",
      "source": [
        "name_pattern = \"[A-Z][a-z]*\\s[A-Z][a-z]*\""
      ],
      "metadata": {
        "id": "WMa4goNZlTEd"
      },
      "execution_count": null,
      "outputs": []
    },
    {
      "cell_type": "code",
      "source": [
        "names = re.finditer(name_pattern, data)\n",
        "for i in names:\n",
        "  print(i.group())"
      ],
      "metadata": {
        "colab": {
          "base_uri": "https://localhost:8080/"
        },
        "id": "1t8bEDEcmIi8",
        "outputId": "9b5b3047-e608-4113-dc1c-f8d6c3edb7d3"
      },
      "execution_count": null,
      "outputs": [
        {
          "output_type": "stream",
          "name": "stdout",
          "text": [
            "Dave Martin\n",
            "Main St\n",
            "Springfield R\n",
            "Charles Harris\n",
            "High St\n",
            "Atlantis V\n",
            "Eric Williams\n",
            "Faketown A\n",
            "Corey Jefferson\n",
            "Elm St\n",
            "Epicburg N\n",
            "Jennifer Martin\n",
            "Cedar St\n",
            "Sunnydale C\n",
            "Erick Davis\n",
            "Washington St\n",
            "Olympus T\n",
            "Neil Patterson\n",
            "Oak St\n",
            "Dawnstar I\n",
            "Laura Jefferson\n",
            "Main St\n",
            "Pythonville L\n",
            "Maria Johnson\n",
            "High St\n",
            "Michael Arnold\n",
            "Elm St\n",
            "Quahog O\n",
            "Michael Smith\n",
            "Park St\n",
            "Winterfell V\n",
            "Erik Stuart\n",
            "Cedar St\n",
            "Lakeview N\n",
            "Laura Martin\n",
            "High St\n",
            "Smalltown W\n",
            "Barbara Martin\n",
            "Hill St\n",
            "Linda Jackson\n",
            "Elm St\n",
            "Westworld T\n",
            "Eric Miller\n",
            "Main St\n",
            "Balmora M\n",
            "Dave Arnold\n",
            "High St\n",
            "Valyria K\n",
            "Jennifer Jacobs\n",
            "High St\n",
            "Neil Wilson\n",
            "Main St\n",
            "Mordor I\n",
            "Kurt Jackson\n",
            "Washington St\n",
            "Blackwater N\n",
            "Mary Jacobs\n",
            "Oak St\n",
            "Bedrock I\n",
            "Michael White\n",
            "Elm St\n",
            "Mordor T\n",
            "Jennifer Jenkins\n",
            "Main St\n",
            "Smalltown S\n",
            "Sam Wright\n",
            "Pearl St\n",
            "Smalltown N\n",
            "John Davis\n",
            "Lake St\n",
            "Bedrock G\n",
            "Eric Davis\n",
            "Lake St\n",
            "Balmora O\n",
            "Laura Jackson\n",
            "Maple St\n",
            "Quahog M\n",
            "John Williams\n",
            "Hill St\n",
            "Valyria K\n",
            "Michael Martin\n",
            "High St\n",
            "Olympus N\n",
            "Maggie Brown\n",
            "Lake St\n",
            "Lakeview M\n",
            "Erik Wilson\n",
            "Hill St\n",
            "Mordor F\n",
            "Elizabeth Arnold\n",
            "Maple St\n",
            "Winterfell N\n",
            "Jane Martin\n",
            "Park St\n",
            "Metropolis I\n",
            "Travis Johnson\n",
            "Washington St\n",
            "Laura Jefferson\n",
            "High St\n",
            "Metropolis M\n",
            "Tom Williams\n",
            "High St\n",
            "Jennifer Taylor\n",
            "Main St\n",
            "Pythonville O\n",
            "Erick Wright\n",
            "Hill St\n",
            "Blackwater N\n",
            "Steve Doe\n",
            "Elm St\n",
            "Atlantis M\n",
            "Kurt Davis\n",
            "Oak St\n",
            "Atlantis N\n",
            "Corey Harris\n",
            "Pearl St\n",
            "Vice City\n",
            "Nicole Taylor\n",
            "Hill St\n",
            "Elizabeth Davis\n",
            "Lake St\n",
            "Eerie S\n",
            "Maggie Jenkins\n",
            "Lake St\n",
            "Gotham P\n",
            "Linda Davis\n",
            "Pine St\n",
            "Vice City\n",
            "Dave Moore\n",
            "Pine St\n",
            "Linda Jenkins\n",
            "High St\n",
            "Bedrock N\n",
            "Eric White\n",
            "Oak St\n",
            "Smalltown T\n",
            "Laura Robinson\n",
            "Pine St\n",
            "Valyria N\n",
            "Charles Patterson\n",
            "Pearl St\n",
            "Valyria A\n",
            "Joe Jackson\n",
            "Cedar St\n",
            "South Park\n",
            "Michael Johnson\n",
            "Hill St\n",
            "Smalltown A\n",
            "Corey Miller\n",
            "High St\n",
            "Springfield I\n",
            "James Moore\n",
            "Main St\n",
            "Gotham K\n",
            "Jennifer Stuart\n",
            "Hill St\n",
            "Landing G\n",
            "Charles Martin\n",
            "High St\n",
            "Faketown P\n",
            "Eric Wilks\n",
            "Main St\n",
            "Blackwater O\n",
            "Elizabeth Arnold\n",
            "Hill St\n",
            "Atlantis N\n",
            "John Miller\n",
            "Cedar St\n",
            "Thundera N\n",
            "Corey Jackson\n",
            "Oak St\n",
            "Gotham U\n",
            "Sam Thomas\n",
            "Lake St\n",
            "Springfield M\n",
            "Patricia Thomas\n",
            "Hill St\n",
            "Blackwater C\n",
            "Jennifer Davis\n",
            "Main St\n",
            "Smalltown M\n",
            "Patricia Brown\n",
            "Hill St\n",
            "Gotham W\n",
            "Barbara Williams\n",
            "Park St\n",
            "Balmora N\n",
            "James Taylor\n",
            "Hill St\n",
            "Dawnstar M\n",
            "Eric Harris\n",
            "Elm St\n",
            "Smalltown N\n",
            "Travis Anderson\n",
            "Cedar St\n",
            "Thundera W\n",
            "Sam Robinson\n",
            "Pine St\n",
            "Lakeview M\n",
            "Steve Robinson\n",
            "Park St\n",
            "Springfield N\n",
            "Mary Wilson\n",
            "Maple St\n",
            "Sam Wilson\n",
            "Pearl St\n",
            "Westworld K\n",
            "Charles Jones\n",
            "Hill St\n",
            "Olympus H\n",
            "Laura Brown\n",
            "Maple St\n",
            "Smalltown M\n",
            "Tom Harris\n",
            "Hill St\n",
            "Blackwater A\n",
            "Patricia Taylor\n",
            "Pine St\n",
            "Olympus F\n",
            "Barbara Williams\n",
            "Elm St\n",
            "Sunnydale G\n",
            "Maggie Johnson\n",
            "Cedar St\n",
            "Quahog D\n",
            "Kurt Miller\n",
            "Hill St\n",
            "Quahog A\n",
            "Neil Stuart\n",
            "Cedar St\n",
            "Sunnydale R\n",
            "Linda Patterson\n",
            "Cedar St\n",
            "Lakeview K\n",
            "Charles Davis\n",
            "Lake St\n",
            "Mordor M\n",
            "Jennifer Jefferson\n",
            "Park St\n",
            "Sunnydale W\n",
            "Erick Taylor\n",
            "Washington St\n",
            "Bedrock I\n",
            "Robert Wilks\n",
            "Elm St\n",
            "Sunnydale I\n",
            "Travis Jackson\n",
            "Lake St\n",
            "Metropolis P\n",
            "Travis Jackson\n",
            "Oak St\n",
            "Atlantis H\n",
            "Laura Wilks\n",
            "Pearl St\n",
            "Smalltown S\n",
            "Neil Arnold\n",
            "Oak St\n",
            "Faketown P\n",
            "Linda Johnson\n",
            "High St\n",
            "Balmora I\n",
            "Jennifer Wilson\n",
            "Pine St\n",
            "Westworld D\n",
            "Nicole White\n",
            "High St\n",
            "Maria Arnold\n",
            "Elm St\n",
            "Metropolis P\n",
            "Jennifer Davis\n",
            "Cedar St\n",
            "Mary Patterson\n",
            "Park St\n",
            "Valyria C\n",
            "Jane Stuart\n",
            "Oak St\n",
            "Robert Davis\n",
            "Maple St\n",
            "Mordor I\n",
            "James Taylor\n",
            "Hill St\n",
            "Olympus N\n",
            "Eric Stuart\n",
            "High St\n",
            "Landing A\n",
            "Charles Miller\n",
            "Washington St\n",
            "Blackwater M\n"
          ]
        }
      ]
    },
    {
      "cell_type": "code",
      "source": [
        "re.match('ab*', 'a')"
      ],
      "metadata": {
        "colab": {
          "base_uri": "https://localhost:8080/"
        },
        "id": "BGccrW9lmWYW",
        "outputId": "20d8a555-9435-4719-c17c-80445b1f97fd"
      },
      "execution_count": null,
      "outputs": [
        {
          "output_type": "execute_result",
          "data": {
            "text/plain": [
              "<re.Match object; span=(0, 1), match='a'>"
            ]
          },
          "metadata": {},
          "execution_count": 31
        }
      ]
    },
    {
      "cell_type": "code",
      "source": [
        "re.match('ab*', 'ab')"
      ],
      "metadata": {
        "colab": {
          "base_uri": "https://localhost:8080/"
        },
        "id": "aTVHZQgBnKya",
        "outputId": "cfa9b07e-0764-4f6e-ba12-22e250b0268d"
      },
      "execution_count": null,
      "outputs": [
        {
          "output_type": "execute_result",
          "data": {
            "text/plain": [
              "<re.Match object; span=(0, 2), match='ab'>"
            ]
          },
          "metadata": {},
          "execution_count": 32
        }
      ]
    },
    {
      "cell_type": "code",
      "source": [
        "re.match('ab*', 'abb')"
      ],
      "metadata": {
        "colab": {
          "base_uri": "https://localhost:8080/"
        },
        "id": "A1Lv5RD7nOOw",
        "outputId": "5e19b825-b82d-46f2-b8a7-d7f637493a12"
      },
      "execution_count": null,
      "outputs": [
        {
          "output_type": "execute_result",
          "data": {
            "text/plain": [
              "<re.Match object; span=(0, 3), match='abb'>"
            ]
          },
          "metadata": {},
          "execution_count": 33
        }
      ]
    },
    {
      "cell_type": "code",
      "source": [
        "re.match('ab*', 'ba')"
      ],
      "metadata": {
        "id": "GhikskVfnQ8w"
      },
      "execution_count": null,
      "outputs": []
    },
    {
      "cell_type": "code",
      "source": [
        "print(re.search('aaaa', 'alohaaaa'))\n",
        "\n",
        "print(re.search('aaa', 'alohaaaa'))\n",
        "\n",
        "print(re.search('aaa', 'alohaaa'))\n",
        "\n",
        "print(re.search('aaaa', 'alohaaa'))"
      ],
      "metadata": {
        "colab": {
          "base_uri": "https://localhost:8080/"
        },
        "id": "0YKo64w-nTo_",
        "outputId": "b659a6c8-a446-4d07-dff3-39530c30cfd8"
      },
      "execution_count": null,
      "outputs": [
        {
          "output_type": "stream",
          "name": "stdout",
          "text": [
            "<re.Match object; span=(4, 8), match='aaaa'>\n",
            "<re.Match object; span=(4, 7), match='aaa'>\n",
            "<re.Match object; span=(4, 7), match='aaa'>\n",
            "None\n"
          ]
        }
      ]
    },
    {
      "cell_type": "code",
      "source": [
        "x = '[0-9]+'\n",
        "re.findall(x, '7 apples and 4 mangoes')"
      ],
      "metadata": {
        "colab": {
          "base_uri": "https://localhost:8080/"
        },
        "id": "pmT2QY8noKOp",
        "outputId": "97dacc43-8a85-444f-fc8e-529d3a54f1aa"
      },
      "execution_count": null,
      "outputs": [
        {
          "output_type": "execute_result",
          "data": {
            "text/plain": [
              "['7', '4']"
            ]
          },
          "metadata": {},
          "execution_count": 36
        }
      ]
    },
    {
      "cell_type": "code",
      "source": [],
      "metadata": {
        "id": "pXTH0XmZo260"
      },
      "execution_count": null,
      "outputs": []
    }
  ]
}