{
  "nbformat": 4,
  "nbformat_minor": 0,
  "metadata": {
    "colab": {
      "provenance": [],
      "authorship_tag": "ABX9TyPxJz1UPUUK/mlfHlqm88h3",
      "include_colab_link": true
    },
    "kernelspec": {
      "name": "python3",
      "display_name": "Python 3"
    },
    "language_info": {
      "name": "python"
    }
  },
  "cells": [
    {
      "cell_type": "markdown",
      "metadata": {
        "id": "view-in-github",
        "colab_type": "text"
      },
      "source": [
        "<a href=\"https://colab.research.google.com/github/KedarDebadwar/python_series/blob/main/day3_ifelse.ipynb\" target=\"_parent\"><img src=\"https://colab.research.google.com/assets/colab-badge.svg\" alt=\"Open In Colab\"/></a>"
      ]
    },
    {
      "cell_type": "code",
      "execution_count": 7,
      "metadata": {
        "colab": {
          "base_uri": "https://localhost:8080/"
        },
        "id": "3LG5sCnhhSSF",
        "outputId": "9acc5e74-2e86-4dcc-d4a9-cdfb234a61bd"
      },
      "outputs": [
        {
          "output_type": "stream",
          "name": "stdout",
          "text": [
            "700\n",
            "Allow withdrawal 700\n"
          ]
        }
      ],
      "source": [
        "A = int(input())\n",
        "if((A % 500) % 200 == 0):\n",
        "  print(\"Allow withdrawal\", A)\n",
        "else:\n",
        "  print(\"Can't allow withdrwal as ATM has 500 & 200 rupee notes.\")"
      ]
    },
    {
      "cell_type": "code",
      "source": [
        "A = int(input())\n",
        "print((A % 500) % 200)"
      ],
      "metadata": {
        "colab": {
          "base_uri": "https://localhost:8080/"
        },
        "id": "L36Ofdq8h9s7",
        "outputId": "7dd815ae-02e4-454a-fe19-c7dab06b3de5"
      },
      "execution_count": 5,
      "outputs": [
        {
          "output_type": "stream",
          "name": "stdout",
          "text": [
            "500\n",
            "0\n"
          ]
        }
      ]
    },
    {
      "cell_type": "code",
      "source": [],
      "metadata": {
        "id": "iVZH9qDAiBD7"
      },
      "execution_count": null,
      "outputs": []
    }
  ]
}